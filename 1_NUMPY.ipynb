{
 "cells": [
  {
   "cell_type": "markdown",
   "id": "8e10b8f6-a035-46c9-98a6-c7f0cb2e9083",
   "metadata": {},
   "source": [
    "NumPy arrays are at the core of numerical computing in Python. They're more efficient than regular Python lists, especially for large datasets, because they offer faster processing and require less memory."
   ]
  },
  {
   "cell_type": "markdown",
   "id": "232df62b-0437-4bad-ab2c-dca36b1310f3",
   "metadata": {},
   "source": [
    "1. Getting Started with NumPy\n",
    "\n",
    "First, you'll need to import NumPy:"
   ]
  },
  {
   "cell_type": "code",
   "execution_count": 1,
   "id": "fc9cd145-07ee-4de4-a8cc-32e5a3b34ee4",
   "metadata": {},
   "outputs": [],
   "source": [
    "import numpy as np"
   ]
  },
  {
   "cell_type": "markdown",
   "id": "4629456e-80d7-49f9-899e-62ed98dea97c",
   "metadata": {},
   "source": [
    "2. Creating NumPy Arrays\n",
    "\n",
    "From Lists:"
   ]
  },
  {
   "cell_type": "code",
   "execution_count": 2,
   "id": "1b969a09-2410-48f5-9ba4-e939bb20e05d",
   "metadata": {},
   "outputs": [
    {
     "name": "stdout",
     "output_type": "stream",
     "text": [
      "[1 2 3 4 5]\n"
     ]
    }
   ],
   "source": [
    "arr = np.array([1, 2, 3, 4, 5])\n",
    "print(arr)\n"
   ]
  },
  {
   "cell_type": "markdown",
   "id": "470c75e3-b744-4435-95f9-5a95f4ce034e",
   "metadata": {},
   "source": [
    "Multi-dimensional Arrays (Matrices):"
   ]
  },
  {
   "cell_type": "code",
   "execution_count": 3,
   "id": "cc7e5fda-3765-4753-ae2d-2f5daacfadce",
   "metadata": {},
   "outputs": [
    {
     "name": "stdout",
     "output_type": "stream",
     "text": [
      "[[1 2 3]\n",
      " [4 5 6]]\n"
     ]
    }
   ],
   "source": [
    "matrix = np.array([[1, 2, 3], [4, 5, 6]])\n",
    "print(matrix)\n"
   ]
  },
  {
   "cell_type": "markdown",
   "id": "051e4a63-789a-4148-a23d-db7e403fdd11",
   "metadata": {},
   "source": [
    "Predefined Arrays with Zeros: Creates an array filled with zeros."
   ]
  },
  {
   "cell_type": "code",
   "execution_count": 4,
   "id": "ae5ae794-0b2b-4c8a-9403-36a0c3172d96",
   "metadata": {},
   "outputs": [
    {
     "data": {
      "text/plain": [
       "array([[0., 0., 0.],\n",
       "       [0., 0., 0.],\n",
       "       [0., 0., 0.]])"
      ]
     },
     "execution_count": 4,
     "metadata": {},
     "output_type": "execute_result"
    }
   ],
   "source": [
    "zeros = np.zeros((3, 3))\n",
    "zeros"
   ]
  },
  {
   "cell_type": "markdown",
   "id": "688aeaef-fb20-453a-996d-0e6f647190f1",
   "metadata": {},
   "source": [
    "Ones: Creates an array filled with ones."
   ]
  },
  {
   "cell_type": "code",
   "execution_count": 5,
   "id": "3698a6d7-f820-43ab-a17b-2b7408ca3b5b",
   "metadata": {},
   "outputs": [
    {
     "data": {
      "text/plain": [
       "array([[1., 1., 1., 1.],\n",
       "       [1., 1., 1., 1.]])"
      ]
     },
     "execution_count": 5,
     "metadata": {},
     "output_type": "execute_result"
    }
   ],
   "source": [
    "ones = np.ones((2, 4))\n",
    "ones"
   ]
  },
  {
   "cell_type": "markdown",
   "id": "b52d45bd-2252-4901-9e73-1c9a853bf82e",
   "metadata": {},
   "source": [
    "Range of Numbers:"
   ]
  },
  {
   "cell_type": "code",
   "execution_count": 6,
   "id": "f662169a-0170-4dfb-939f-6811498901aa",
   "metadata": {},
   "outputs": [
    {
     "data": {
      "text/plain": [
       "array([0, 2, 4, 6, 8])"
      ]
     },
     "execution_count": 6,
     "metadata": {},
     "output_type": "execute_result"
    }
   ],
   "source": [
    "arr_range = np.arange(0, 10, 2)  # Start at 0, end before 10, step of 2\n",
    "arr_range"
   ]
  },
  {
   "cell_type": "markdown",
   "id": "4cfdb6f8-d3d4-4890-97dc-20431c6f90b5",
   "metadata": {},
   "source": [
    "Evenly Spaced Numbers:"
   ]
  },
  {
   "cell_type": "code",
   "execution_count": 7,
   "id": "a994bc2e-4221-4af9-993e-26b2acbb60af",
   "metadata": {},
   "outputs": [
    {
     "data": {
      "text/plain": [
       "array([0.  , 0.25, 0.5 , 0.75, 1.  ])"
      ]
     },
     "execution_count": 7,
     "metadata": {},
     "output_type": "execute_result"
    }
   ],
   "source": [
    "lin_space = np.linspace(0, 1, 5)  # 5 numbers between 0 and 1\n",
    "lin_space"
   ]
  },
  {
   "cell_type": "markdown",
   "id": "b800c58c-dd87-4f93-be4d-01f3062a023a",
   "metadata": {},
   "source": [
    "3. Array Operations:Element-wise Arithmetic:"
   ]
  },
  {
   "cell_type": "code",
   "execution_count": 8,
   "id": "a0da2fef-75a0-4725-a53b-c89cbe2da3e5",
   "metadata": {},
   "outputs": [
    {
     "name": "stdout",
     "output_type": "stream",
     "text": [
      "[5 7 9]\n",
      "[ 4 10 18]\n"
     ]
    }
   ],
   "source": [
    "arr1 = np.array([1, 2, 3])\n",
    "arr2 = np.array([4, 5, 6])\n",
    "\n",
    "# Addition\n",
    "print(arr1 + arr2)  # [5 7 9]\n",
    "\n",
    "# Multiplication\n",
    "print(arr1 * arr2)  # [4 10 18]\n"
   ]
  },
  {
   "cell_type": "markdown",
   "id": "75c3a507-9298-462f-915c-539c4712c7c3",
   "metadata": {},
   "source": [
    "Broadcasting:"
   ]
  },
  {
   "cell_type": "code",
   "execution_count": 9,
   "id": "5f850065-bd4d-4614-a195-3b5942778bbf",
   "metadata": {},
   "outputs": [
    {
     "name": "stdout",
     "output_type": "stream",
     "text": [
      "[6 7 8]\n"
     ]
    }
   ],
   "source": [
    "arr = np.array([1, 2, 3])\n",
    "print(arr + 5)  # [6 7 8]  (adds 5 to every element)\n"
   ]
  },
  {
   "cell_type": "markdown",
   "id": "b25933c8-7b84-4f55-9b1c-ed7ceda50c50",
   "metadata": {},
   "source": [
    "4. Array Indexing & Slicing\n",
    "\n",
    "Indexing:"
   ]
  },
  {
   "cell_type": "code",
   "execution_count": 10,
   "id": "d09a3f4b-3803-4f92-8152-992a12ff9dc8",
   "metadata": {},
   "outputs": [
    {
     "name": "stdout",
     "output_type": "stream",
     "text": [
      "20\n"
     ]
    }
   ],
   "source": [
    "arr = np.array([10, 20, 30, 40, 50])\n",
    "print(arr[1])  # 20\n"
   ]
  },
  {
   "cell_type": "markdown",
   "id": "72c7c313-7117-47fe-a590-9fb6a31c30c2",
   "metadata": {},
   "source": [
    "Slicing:"
   ]
  },
  {
   "cell_type": "code",
   "execution_count": 11,
   "id": "3f9912dc-5ff5-4288-98f5-e042371ace9a",
   "metadata": {},
   "outputs": [
    {
     "name": "stdout",
     "output_type": "stream",
     "text": [
      "[20 30 40]\n"
     ]
    }
   ],
   "source": [
    "print(arr[1:4])  # [20 30 40]\n"
   ]
  },
  {
   "cell_type": "markdown",
   "id": "82f43e81-cf57-45bf-a639-b3fe6fa725cb",
   "metadata": {},
   "source": [
    "2D Array Indexing:"
   ]
  },
  {
   "cell_type": "code",
   "execution_count": 13,
   "id": "e22e0e7b-a746-4855-85ea-7227856ae0d1",
   "metadata": {},
   "outputs": [
    {
     "name": "stdout",
     "output_type": "stream",
     "text": [
      "3\n"
     ]
    }
   ],
   "source": [
    "matrix = np.array([[1, 2, 3], [4, 5, 6], [7, 8, 9]])\n",
    "print(matrix[0, 2])  # 6 (2nd row, 3rd column)\n"
   ]
  },
  {
   "cell_type": "markdown",
   "id": "d91d1f09-6083-4fa2-b57d-e3ad61ccf0dc",
   "metadata": {},
   "source": [
    "5. Useful NumPy Functions:Sum, Mean, Max:"
   ]
  },
  {
   "cell_type": "code",
   "execution_count": 16,
   "id": "7332c09e-7215-4f63-9f34-d191412115be",
   "metadata": {},
   "outputs": [
    {
     "name": "stdout",
     "output_type": "stream",
     "text": [
      "150\n",
      "30.0\n",
      "50\n"
     ]
    }
   ],
   "source": [
    "print(arr.sum())   # Sum of all elements\n",
    "print(arr.mean())  # Mean of elements\n",
    "print(arr.max())   # Maximum value\n"
   ]
  },
  {
   "cell_type": "markdown",
   "id": "b720c193-5c2b-45e4-8ea5-e0baa5b8c756",
   "metadata": {},
   "source": [
    "Reshaping Arrays:"
   ]
  },
  {
   "cell_type": "code",
   "execution_count": 18,
   "id": "c55f49f6-8437-4f98-91e8-9db6c7df6cd6",
   "metadata": {},
   "outputs": [
    {
     "name": "stdout",
     "output_type": "stream",
     "text": [
      "[[0 1 2]\n",
      " [3 4 5]\n",
      " [6 7 8]]\n"
     ]
    }
   ],
   "source": [
    "reshaped = np.arange(9).reshape(3, 3)\n",
    "print(reshaped)\n"
   ]
  },
  {
   "cell_type": "markdown",
   "id": "fc11f96b-2fdd-49b2-9e2d-81a33ef3a81a",
   "metadata": {},
   "source": [
    "Transposing Arrays:"
   ]
  },
  {
   "cell_type": "code",
   "execution_count": 19,
   "id": "d08e15dd-aa59-4202-801e-feb5218511a4",
   "metadata": {},
   "outputs": [
    {
     "name": "stdout",
     "output_type": "stream",
     "text": [
      "[[0 3 6]\n",
      " [1 4 7]\n",
      " [2 5 8]]\n"
     ]
    }
   ],
   "source": [
    "transposed = reshaped.T\n",
    "print(transposed)\n"
   ]
  },
  {
   "cell_type": "markdown",
   "id": "69c8c632-3243-425f-befe-5f8b8a7945c2",
   "metadata": {},
   "source": [
    "6. Boolean Indexing & Filtering"
   ]
  },
  {
   "cell_type": "code",
   "execution_count": 21,
   "id": "bc891f23-2434-4fba-9b54-b59ae77a4654",
   "metadata": {},
   "outputs": [
    {
     "name": "stdout",
     "output_type": "stream",
     "text": [
      "[4 5]\n"
     ]
    }
   ],
   "source": [
    "arr = np.array([1, 2, 3, 4, 5])\n",
    "\n",
    "# Filter values greater than 3\n",
    "filtered = arr[arr > 3]\n",
    "print(filtered)  # [4 5]\n"
   ]
  },
  {
   "cell_type": "code",
   "execution_count": null,
   "id": "2f32d2a1-d0ff-4aa5-840b-559721b8458b",
   "metadata": {},
   "outputs": [],
   "source": []
  }
 ],
 "metadata": {
  "kernelspec": {
   "display_name": "Python 3 (ipykernel)",
   "language": "python",
   "name": "python3"
  },
  "language_info": {
   "codemirror_mode": {
    "name": "ipython",
    "version": 3
   },
   "file_extension": ".py",
   "mimetype": "text/x-python",
   "name": "python",
   "nbconvert_exporter": "python",
   "pygments_lexer": "ipython3",
   "version": "3.12.7"
  }
 },
 "nbformat": 4,
 "nbformat_minor": 5
}
