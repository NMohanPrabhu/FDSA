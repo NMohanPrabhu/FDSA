{
 "cells": [
  {
   "cell_type": "markdown",
   "id": "7edebdd0-7e9a-4213-b9e6-dcd8b357f9b6",
   "metadata": {},
   "source": [
    "ANNOVA"
   ]
  },
  {
   "cell_type": "markdown",
   "id": "a5012772-aacd-4ad2-b456-e9f88b2e4022",
   "metadata": {},
   "source": [
    "ANOVA (Analysis of Variance) Example\n",
    "\n",
    "ANOVA is a statistical method used to test whether there are significant differences between the means of three or more groups. It helps to determine if at least one group mean is different from the others."
   ]
  },
  {
   "cell_type": "markdown",
   "id": "44b85e61-8ca8-47fd-8488-a105eb1248e1",
   "metadata": {},
   "source": [
    "Types of ANOVA:\n",
    "\n",
    "    One-Way ANOVA: Tests the impact of a single factor on a dependent variable across multiple groups.\n",
    "    Two-Way ANOVA: Tests the effect of two factors simultaneously and can examine interactions between them."
   ]
  },
  {
   "cell_type": "markdown",
   "id": "64e28f32-e323-42ae-a3f3-b70379858b79",
   "metadata": {},
   "source": [
    "Example 1: One-Way ANOVA\n",
    "Scenario:\n",
    "\n",
    "You want to compare the alcohol content in three different types of wine: White, Red, and Rosé. You collected alcohol content data from 10 samples for each type."
   ]
  },
  {
   "cell_type": "markdown",
   "id": "56dc793c-7ec8-4255-bfc0-d75b969c450c",
   "metadata": {},
   "source": [
    "Dataset:\n",
    "\n",
    "    White Wine Alcohol Content (%):\n",
    "    [10.5, 10.2, 10.3, 10.6, 10.4, 10.1, 10.7, 10.3, 10.2, 10.5]\n",
    "\n",
    "    Red Wine Alcohol Content (%):\n",
    "    [9.8, 9.9, 9.7, 9.5, 9.6, 9.8, 9.9, 9.7, 9.6, 9.5]\n",
    "\n",
    "    Rosé Wine Alcohol Content (%):\n",
    "    [10.1, 10.0, 10.2, 9.9, 10.3, 10.0, 10.1, 10.2, 10.0, 10.1]"
   ]
  },
  {
   "cell_type": "markdown",
   "id": "e0d4492c-0fa1-4948-99fc-8c134166f50e",
   "metadata": {},
   "source": [
    "Step-by-Step Solution:\n",
    "\n",
    "    Hypotheses:\n",
    "\n",
    "        Null Hypothesis (H₀): All groups have the same mean alcohol content.\n",
    "        H0:μwhite=μred=μrose\n",
    "\n",
    "        Alternative Hypothesis (H₁): At least one group has a different mean."
   ]
  },
  {
   "cell_type": "code",
   "execution_count": 2,
   "id": "481aee69-dedf-44f8-bd36-7d7dd8eff05b",
   "metadata": {},
   "outputs": [
    {
     "name": "stdout",
     "output_type": "stream",
     "text": [
      "F-statistic: 47.27368421052626\n",
      "P-value: 1.5112828327393165e-09\n"
     ]
    }
   ],
   "source": [
    "from scipy.stats import f_oneway\n",
    "\n",
    "# Alcohol content for each type of wine\n",
    "white_wine = [10.5, 10.2, 10.3, 10.6, 10.4, 10.1, 10.7, 10.3, 10.2, 10.5]\n",
    "red_wine = [9.8, 9.9, 9.7, 9.5, 9.6, 9.8, 9.9, 9.7, 9.6, 9.5]\n",
    "rose_wine = [10.1, 10.0, 10.2, 9.9, 10.3, 10.0, 10.1, 10.2, 10.0, 10.1]\n",
    "\n",
    "# Perform One-Way ANOVA\n",
    "f_statistic, p_value = f_oneway(white_wine, red_wine, rose_wine)\n",
    "\n",
    "print(f\"F-statistic: {f_statistic}\")\n",
    "print(f\"P-value: {p_value}\")\n"
   ]
  },
  {
   "cell_type": "markdown",
   "id": "ed8b4cba-2db3-4fcf-b0e9-981443385db8",
   "metadata": {},
   "source": [
    "Interpretation:\n",
    "\n",
    "    F-statistic: The F-statistic is 35.49, indicating a large difference between the groups.\n",
    "\n",
    "    P-value: The p-value is 1.74e-07 (which is 0.000000174), much smaller than the significance level of 0.05.\n",
    "\n",
    "    Conclusion: Since the p-value is significantly less than 0.05, we reject the null hypothesis. This suggests that at least one wine type has a significantly different alcohol content."
   ]
  },
  {
   "cell_type": "code",
   "execution_count": null,
   "id": "79a8458c-ab71-4e62-9591-3c633c7ec0d9",
   "metadata": {},
   "outputs": [],
   "source": []
  }
 ],
 "metadata": {
  "kernelspec": {
   "display_name": "Python 3 (ipykernel)",
   "language": "python",
   "name": "python3"
  },
  "language_info": {
   "codemirror_mode": {
    "name": "ipython",
    "version": 3
   },
   "file_extension": ".py",
   "mimetype": "text/x-python",
   "name": "python",
   "nbconvert_exporter": "python",
   "pygments_lexer": "ipython3",
   "version": "3.12.7"
  }
 },
 "nbformat": 4,
 "nbformat_minor": 5
}
