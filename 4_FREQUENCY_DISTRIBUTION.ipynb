{
 "cells": [
  {
   "cell_type": "markdown",
   "id": "1ad8a8d9-96ca-4011-9922-bd28ae8b5961",
   "metadata": {},
   "source": [
    "4.\tFrequency distributions, Averages, Variability"
   ]
  },
  {
   "cell_type": "markdown",
   "id": "d1a1c186-7675-4aa8-a35a-585d6aa00329",
   "metadata": {},
   "source": [
    "1. Frequency Distributions\n",
    "\n",
    "A frequency distribution shows how often each value appears in a dataset.\n",
    "\n",
    "Example: Frequency Distribution of Wine Quality Ratings"
   ]
  },
  {
   "cell_type": "code",
   "execution_count": 1,
   "id": "0fc0a342-5d29-4646-92aa-b0e3e3043c9e",
   "metadata": {},
   "outputs": [
    {
     "name": "stdout",
     "output_type": "stream",
     "text": [
      "Quality\n",
      "4    1\n",
      "5    3\n",
      "6    3\n",
      "7    2\n",
      "8    2\n",
      "9    1\n",
      "Name: count, dtype: int64\n"
     ]
    }
   ],
   "source": [
    "import pandas as pd\n",
    "\n",
    "# Sample data: Wine quality ratings\n",
    "data = {'Quality': [5, 6, 5, 7, 8, 6, 5, 7, 6, 8, 9, 4]}\n",
    "df = pd.DataFrame(data)\n",
    "\n",
    "# Frequency distribution\n",
    "frequency_distribution = df['Quality'].value_counts().sort_index()\n",
    "print(frequency_distribution)\n"
   ]
  },
  {
   "cell_type": "markdown",
   "id": "cac068db-6c76-4c66-8968-f9b25a4bc76b",
   "metadata": {},
   "source": [
    "Interpretation:\n",
    "\n",
    "    Quality rating 5 appears 3 times.\n",
    "    Quality rating 6 appears 3 times.\n",
    "    Quality rating 4 and 9 appear once each."
   ]
  },
  {
   "cell_type": "markdown",
   "id": "ec524505-0cbd-4ec1-886c-69d26723d456",
   "metadata": {},
   "source": [
    "2. Averages (Measures of Central Tendency)\n",
    "\n",
    "Averages summarize data with a single representative value. The most common are:\n",
    "\n",
    "    Mean: The arithmetic average.\n",
    "    Median: The middle value when data is sorted.\n",
    "    Mode: The most frequently occurring value."
   ]
  },
  {
   "cell_type": "code",
   "execution_count": 2,
   "id": "c37db6a2-fe1f-440d-8b6c-576b49ecd8b0",
   "metadata": {},
   "outputs": [
    {
     "name": "stdout",
     "output_type": "stream",
     "text": [
      "Mean Alcohol: 9.959999999999999\n",
      "Median Alcohol: 9.95\n",
      "Mode Alcohol: 9.5\n"
     ]
    }
   ],
   "source": [
    "# Sample data: Alcohol content\n",
    "data = {'Alcohol': [9.5, 10.1, 9.8, 10.5, 9.7, 10.3, 9.9, 10.2, 9.6, 10.0]}\n",
    "df = pd.DataFrame(data)\n",
    "\n",
    "# Mean\n",
    "mean_alcohol = df['Alcohol'].mean()\n",
    "\n",
    "# Median\n",
    "median_alcohol = df['Alcohol'].median()\n",
    "\n",
    "# Mode\n",
    "mode_alcohol = df['Alcohol'].mode()[0]\n",
    "\n",
    "print(f\"Mean Alcohol: {mean_alcohol}\")\n",
    "print(f\"Median Alcohol: {median_alcohol}\")\n",
    "print(f\"Mode Alcohol: {mode_alcohol}\")\n"
   ]
  },
  {
   "cell_type": "markdown",
   "id": "1a458fd6-905f-4c7a-8a21-2ce8d80996b0",
   "metadata": {},
   "source": [
    "Interpretation:\n",
    "\n",
    "    The average alcohol content is 9.96%.\n",
    "    The median is 9.95%, indicating the middle point of the data.\n",
    "    The mode is 9.5%, the most frequently occurring value."
   ]
  },
  {
   "cell_type": "markdown",
   "id": "84f5fa9d-5a71-4f52-bf30-fc4eb6d9eed2",
   "metadata": {},
   "source": [
    "3. Variability (Measures of Spread)\n",
    "\n",
    "Variability measures how spread out the data is. Common measures include:\n",
    "\n",
    "    Range: Difference between the maximum and minimum values.\n",
    "    Variance: The average of squared differences from the mean.\n",
    "    Standard Deviation: The square root of variance, indicating how much the values deviate from the mean."
   ]
  },
  {
   "cell_type": "code",
   "execution_count": 3,
   "id": "acb6ff8f-72a6-40e4-a93c-3cf84fbc5a7f",
   "metadata": {},
   "outputs": [
    {
     "name": "stdout",
     "output_type": "stream",
     "text": [
      "Range of Residual Sugar: 1.2999999999999998\n",
      "Variance of Residual Sugar: 0.17733333333333332\n",
      "Standard Deviation of Residual Sugar: 0.42110964526276684\n"
     ]
    }
   ],
   "source": [
    "# Sample data: Residual sugar content\n",
    "data = {'Residual Sugar': [1.5, 2.1, 2.8, 1.9, 2.5, 1.7, 2.3, 2.0, 2.6, 1.8]}\n",
    "df = pd.DataFrame(data)\n",
    "\n",
    "# Range\n",
    "range_sugar = df['Residual Sugar'].max() - df['Residual Sugar'].min()\n",
    "\n",
    "# Variance\n",
    "variance_sugar = df['Residual Sugar'].var()\n",
    "\n",
    "# Standard Deviation\n",
    "std_dev_sugar = df['Residual Sugar'].std()\n",
    "\n",
    "print(f\"Range of Residual Sugar: {range_sugar}\")\n",
    "print(f\"Variance of Residual Sugar: {variance_sugar}\")\n",
    "print(f\"Standard Deviation of Residual Sugar: {std_dev_sugar}\")\n"
   ]
  },
  {
   "cell_type": "markdown",
   "id": "167d57f6-a187-421b-9ca0-0a4a5f33ac7c",
   "metadata": {},
   "source": [
    "Interpretation:\n",
    "\n",
    "    The range of residual sugar is 1.3 g/L.\n",
    "    The variance shows how much the sugar content varies around the mean.\n",
    "    The standard deviation of 0.407 indicates the average deviation from the mean sugar content."
   ]
  },
  {
   "cell_type": "code",
   "execution_count": null,
   "id": "11dd1c83-edde-49bd-ac71-b24d34a83deb",
   "metadata": {},
   "outputs": [],
   "source": []
  }
 ],
 "metadata": {
  "kernelspec": {
   "display_name": "Python 3 (ipykernel)",
   "language": "python",
   "name": "python3"
  },
  "language_info": {
   "codemirror_mode": {
    "name": "ipython",
    "version": 3
   },
   "file_extension": ".py",
   "mimetype": "text/x-python",
   "name": "python",
   "nbconvert_exporter": "python",
   "pygments_lexer": "ipython3",
   "version": "3.12.7"
  }
 },
 "nbformat": 4,
 "nbformat_minor": 5
}
